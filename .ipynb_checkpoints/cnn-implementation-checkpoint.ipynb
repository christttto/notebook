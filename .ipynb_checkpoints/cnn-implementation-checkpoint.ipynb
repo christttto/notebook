{
 "cells": [
  {
   "cell_type": "code",
   "execution_count": null,
   "metadata": {},
   "outputs": [],
   "source": [
    "import tensorflow as tf\n",
    "from tensorflow.examples.tutorials.mnist import input_data\n",
    "mnist = input_data.read_data_sets('MNIST_data', one_hot=True, reshape=False)"
   ]
  },
  {
   "cell_type": "code",
   "execution_count": null,
   "metadata": {},
   "outputs": [],
   "source": [
    "X= tf.placeholder(tf.float32,shape=[None,28,28,1])\n",
    "Y_Label = tf.placeholder(tf.float32,shape=[None,10])"
   ]
  },
  {
   "cell_type": "code",
   "execution_count": null,
   "metadata": {},
   "outputs": [],
   "source": [
    "Kernel1 = tf.Variable(tf.truncated_normal(shape=[4,4,1,4],stddev=0.1))\n",
    "Bias1 = tf.Variable(tf.truncated_normal(shape=[4],stddev=0.1))\n",
    "Conv1 = tf.nn.conv2d(X, Kernel1, strides=[1,1,1,1], padding='SAME') + Bias1\n",
    "Activation1 = tf.nn.relu(Conv1)\n",
    "Pool1 = tf.nn.max_pool(Activation1, ksize=[1,2,2,1] , strides=[1,2,2,1], padding='SAME')"
   ]
  },
  {
   "cell_type": "code",
   "execution_count": null,
   "metadata": {
    "collapsed": true
   },
   "outputs": [],
   "source": [
    "Kernel2 = tf.Variable(tf.truncated_normal(shape=[4,4,4,8],stddev=0.1))\n",
    "Bias2 = tf.Variable(tf.truncated_normal(shape=[8],stddev=0.1))\n",
    "Conv2 = tf.nn.conv2d(Pool1, Kernel2, strides=[1,1,1,1], padding='SAME') + Bias2\n",
    "Activation2 = tf.nn.relu(Conv2)\n",
    "Pool2 = tf.nn.max_pool(Activation2, ksize=[1,2,2,1] , strides=[1,2,2,1], padding='SAME')"
   ]
  },
  {
   "cell_type": "code",
   "execution_count": null,
   "metadata": {},
   "outputs": [],
   "source": [
    "W1 = tf.Variable(tf.truncated_normal(shape=[8*7*7,10]))\n",
    "B1 = tf.Variable(tf.truncated_normal(shape=[10]))\n",
    "Pool2_flat = tf.reshape(Pool2,[-1,8*7*7])\n",
    "OutputLayer = tf.matmul(Pool2_flat,W1)+B1"
   ]
  },
  {
   "cell_type": "code",
   "execution_count": null,
   "metadata": {},
   "outputs": [],
   "source": [
    "Loss = tf.reduce_mean(tf.nn.softmax_cross_entropy_with_logits(labels=Y_Label, logits=OutputLayer))\n",
    "train_step = tf.train.AdamOptimizer(0.005).minimize(Loss)"
   ]
  },
  {
   "cell_type": "code",
   "execution_count": null,
   "metadata": {},
   "outputs": [],
   "source": [
    "correct_prediction = tf.equal(tf.argmax(OutputLayer,1),tf.argmax(Y_Label,1))\n",
    "accuracy = tf.reduce_mean(tf.cast(correct_prediction,tf.float32))\n",
    "\n",
    "with tf.Session() as sess:\n",
    "    print(\"Start....\")\n",
    "    sess.run(tf.global_variables_initializer())\n",
    "    for i in range(10000):\n",
    "        trainingData, Y = mnist.train.next_batch(64)\n",
    "        sess.run(train_step,feed_dict={X:trainingData,Y_Label:Y})\n",
    "        if i%100:\n",
    "            1"
   ]
  },
  {
   "cell_type": "code",
   "execution_count": null,
   "metadata": {
    "collapsed": true
   },
   "outputs": [],
   "source": []
  }
 ],
 "metadata": {
  "kernelspec": {
   "display_name": "Python 3",
   "language": "python",
   "name": "python3"
  },
  "language_info": {
   "codemirror_mode": {
    "name": "ipython",
    "version": 3
   },
   "file_extension": ".py",
   "mimetype": "text/x-python",
   "name": "python",
   "nbconvert_exporter": "python",
   "pygments_lexer": "ipython3",
   "version": "3.6.8"
  }
 },
 "nbformat": 4,
 "nbformat_minor": 2
}
